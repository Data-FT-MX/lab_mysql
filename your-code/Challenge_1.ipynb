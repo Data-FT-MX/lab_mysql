{
 "cells": [
  {
   "cell_type": "code",
   "execution_count": 1,
   "id": "db910f8a",
   "metadata": {},
   "outputs": [
    {
     "ename": "SyntaxError",
     "evalue": "invalid syntax (Temp/ipykernel_19684/3787154782.py, line 1)",
     "output_type": "error",
     "traceback": [
      "\u001b[1;36m  File \u001b[1;32m\"C:\\Users\\ghect\\AppData\\Local\\Temp/ipykernel_19684/3787154782.py\"\u001b[1;36m, line \u001b[1;32m1\u001b[0m\n\u001b[1;33m    https://lucid.app/lucidchart/eeffc8d5-3c2f-4a85-85d3-4dc059b5be8d/edit?invitationId=inv_bcdb5985-7a63-433d-ab01-a1f8959b64de\u001b[0m\n\u001b[1;37m          ^\u001b[0m\n\u001b[1;31mSyntaxError\u001b[0m\u001b[1;31m:\u001b[0m invalid syntax\n"
     ]
    }
   ],
   "source": [
    "https://lucid.app/lucidchart/eeffc8d5-3c2f-4a85-85d3-4dc059b5be8d/edit?invitationId=inv_bcdb5985-7a63-433d-ab01-a1f8959b64de"
   ]
  },
  {
   "cell_type": "code",
   "execution_count": null,
   "id": "965ae34b",
   "metadata": {},
   "outputs": [],
   "source": []
  }
 ],
 "metadata": {
  "kernelspec": {
   "display_name": "Python 3 (ipykernel)",
   "language": "python",
   "name": "python3"
  },
  "language_info": {
   "codemirror_mode": {
    "name": "ipython",
    "version": 3
   },
   "file_extension": ".py",
   "mimetype": "text/x-python",
   "name": "python",
   "nbconvert_exporter": "python",
   "pygments_lexer": "ipython3",
   "version": "3.8.3"
  }
 },
 "nbformat": 4,
 "nbformat_minor": 5
}
